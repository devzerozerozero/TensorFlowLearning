{
 "cells": [
  {
   "cell_type": "markdown",
   "metadata": {},
   "source": [
    "*** construction ***"
   ]
  },
  {
   "cell_type": "code",
   "execution_count": 1,
   "metadata": {
    "collapsed": true
   },
   "outputs": [],
   "source": [
    "import tensorflow as tf\n",
    "import numpy as np"
   ]
  },
  {
   "cell_type": "code",
   "execution_count": 2,
   "metadata": {
    "collapsed": true
   },
   "outputs": [],
   "source": [
    "n_input = 28 * 28\n",
    "n_hidden1 = 300\n",
    "n_hidden2 = 100\n",
    "n_outputs = 10"
   ]
  },
  {
   "cell_type": "code",
   "execution_count": 3,
   "metadata": {
    "collapsed": true
   },
   "outputs": [],
   "source": [
    "X = tf.placeholder(tf.float32, shape=(None, n_input), name=\"X\")\n",
    "y = tf.placeholder(tf.int64, shape=(None), name=\"y\")"
   ]
  },
  {
   "cell_type": "code",
   "execution_count": 4,
   "metadata": {
    "collapsed": true
   },
   "outputs": [],
   "source": [
    "def neuron_layer(X, n_neurons, name, activation=None):\n",
    "    with tf.name_scope(name):\n",
    "        n_inputs = int(X.get_shape()[1])\n",
    "        stddev = 2 / np.sqrt(n_inputs)\n",
    "        init = tf.truncated_normal((n_inputs, n_neurons), stddev=stddev)\n",
    "        W = tf.Variable(init, name=\"weights\")\n",
    "        b = tf.Variable(tf.zeros([n_neurons]), name=\"biases\")\n",
    "        z = tf.matmul(X, W) + b\n",
    "        if activation == \"relu\":\n",
    "            return tf.nn.relu(z)\n",
    "        else:\n",
    "            return z"
   ]
  },
  {
   "cell_type": "code",
   "execution_count": 5,
   "metadata": {
    "collapsed": true
   },
   "outputs": [],
   "source": [
    "with tf.name_scope(\"dnn\"):\n",
    "    hidden1 = neuron_layer(X, n_hidden1, \"hidden1\", activation=\"relu\")\n",
    "    hidden2 = neuron_layer(hidden1, n_hidden2, \"hidden2\", activation=\"relu\")\n",
    "    logits = neuron_layer(hidden2, n_outputs, \"outputs\")"
   ]
  },
  {
   "cell_type": "code",
   "execution_count": 6,
   "metadata": {},
   "outputs": [],
   "source": [
    "with tf.name_scope(\"loss\"):\n",
    "    xentropy = tf.nn.sparse_softmax_cross_entropy_with_logits(labels=y, logits=logits)\n",
    "    loss = tf.reduce_mean(xentropy, name=\"loss\")"
   ]
  },
  {
   "cell_type": "code",
   "execution_count": 7,
   "metadata": {
    "collapsed": true
   },
   "outputs": [],
   "source": [
    "learning_rate = 0.01"
   ]
  },
  {
   "cell_type": "code",
   "execution_count": 8,
   "metadata": {
    "collapsed": true
   },
   "outputs": [],
   "source": [
    "with tf.name_scope(\"train\"):\n",
    "    optimizer = tf.train.GradientDescentOptimizer(learning_rate)\n",
    "    training_op = optimizer.minimize(loss)"
   ]
  },
  {
   "cell_type": "code",
   "execution_count": 9,
   "metadata": {
    "collapsed": true
   },
   "outputs": [],
   "source": [
    "with tf.name_scope(\"eval\"):\n",
    "    correct = tf.nn.in_top_k(logits, y, 1)\n",
    "    accuracy = tf.reduce_mean(tf.cast(correct, tf.float32))"
   ]
  },
  {
   "cell_type": "code",
   "execution_count": 13,
   "metadata": {},
   "outputs": [],
   "source": [
    "init = tf.global_variables_initializer()\n",
    "saver = tf.train.Saver()"
   ]
  },
  {
   "cell_type": "markdown",
   "metadata": {},
   "source": [
    "*** execution ***"
   ]
  },
  {
   "cell_type": "code",
   "execution_count": 16,
   "metadata": {},
   "outputs": [],
   "source": [
    "from tensorflow.examples.tutorials.mnist import input_data"
   ]
  },
  {
   "cell_type": "code",
   "execution_count": 17,
   "metadata": {},
   "outputs": [
    {
     "name": "stdout",
     "output_type": "stream",
     "text": [
      "Extracting /tmp/data\\train-images-idx3-ubyte.gz\n",
      "Extracting /tmp/data\\train-labels-idx1-ubyte.gz\n",
      "Extracting /tmp/data\\t10k-images-idx3-ubyte.gz\n",
      "Extracting /tmp/data\\t10k-labels-idx1-ubyte.gz\n"
     ]
    }
   ],
   "source": [
    "mnist = input_data.read_data_sets(\"/tmp/data\")"
   ]
  },
  {
   "cell_type": "code",
   "execution_count": 19,
   "metadata": {
    "collapsed": true
   },
   "outputs": [],
   "source": [
    "n_epochs = 400\n",
    "batch_size = 50"
   ]
  },
  {
   "cell_type": "code",
   "execution_count": null,
   "metadata": {},
   "outputs": [
    {
     "name": "stdout",
     "output_type": "stream",
     "text": [
      "0 Train accuracy: 0.88 Test accuracy: 0.9123\n",
      "1 Train accuracy: 0.94 Test accuracy: 0.9267\n",
      "2 Train accuracy: 0.92 Test accuracy: 0.9391\n",
      "3 Train accuracy: 0.94 Test accuracy: 0.945\n",
      "4 Train accuracy: 0.94 Test accuracy: 0.9489\n",
      "5 Train accuracy: 0.96 Test accuracy: 0.9516\n",
      "6 Train accuracy: 0.98 Test accuracy: 0.9561\n",
      "7 Train accuracy: 0.96 Test accuracy: 0.9574\n",
      "8 Train accuracy: 1.0 Test accuracy: 0.9596\n",
      "9 Train accuracy: 0.96 Test accuracy: 0.9595\n",
      "10 Train accuracy: 0.96 Test accuracy: 0.9625\n",
      "11 Train accuracy: 1.0 Test accuracy: 0.9651\n",
      "12 Train accuracy: 0.96 Test accuracy: 0.9667\n",
      "13 Train accuracy: 1.0 Test accuracy: 0.967\n",
      "14 Train accuracy: 1.0 Test accuracy: 0.966\n",
      "15 Train accuracy: 0.98 Test accuracy: 0.9685\n",
      "16 Train accuracy: 1.0 Test accuracy: 0.9691\n",
      "17 Train accuracy: 0.96 Test accuracy: 0.9685\n",
      "18 Train accuracy: 1.0 Test accuracy: 0.9711\n",
      "19 Train accuracy: 0.96 Test accuracy: 0.9718\n",
      "20 Train accuracy: 0.98 Test accuracy: 0.972\n",
      "21 Train accuracy: 0.96 Test accuracy: 0.9723\n",
      "22 Train accuracy: 0.98 Test accuracy: 0.9734\n",
      "23 Train accuracy: 1.0 Test accuracy: 0.9732\n",
      "24 Train accuracy: 1.0 Test accuracy: 0.9736\n",
      "25 Train accuracy: 0.98 Test accuracy: 0.9736\n",
      "26 Train accuracy: 0.98 Test accuracy: 0.9758\n",
      "27 Train accuracy: 1.0 Test accuracy: 0.9746\n",
      "28 Train accuracy: 0.98 Test accuracy: 0.9752\n",
      "29 Train accuracy: 1.0 Test accuracy: 0.9759\n",
      "30 Train accuracy: 0.98 Test accuracy: 0.9754\n",
      "31 Train accuracy: 1.0 Test accuracy: 0.9751\n",
      "32 Train accuracy: 0.98 Test accuracy: 0.9752\n",
      "33 Train accuracy: 1.0 Test accuracy: 0.9768\n",
      "34 Train accuracy: 1.0 Test accuracy: 0.976\n",
      "35 Train accuracy: 1.0 Test accuracy: 0.9774\n",
      "36 Train accuracy: 1.0 Test accuracy: 0.9771\n",
      "37 Train accuracy: 1.0 Test accuracy: 0.9771\n",
      "38 Train accuracy: 1.0 Test accuracy: 0.9772\n",
      "39 Train accuracy: 1.0 Test accuracy: 0.9764\n",
      "40 Train accuracy: 1.0 Test accuracy: 0.9777\n",
      "41 Train accuracy: 1.0 Test accuracy: 0.977\n",
      "42 Train accuracy: 1.0 Test accuracy: 0.978\n",
      "43 Train accuracy: 1.0 Test accuracy: 0.9768\n",
      "44 Train accuracy: 1.0 Test accuracy: 0.9782\n",
      "45 Train accuracy: 1.0 Test accuracy: 0.9777\n",
      "46 Train accuracy: 1.0 Test accuracy: 0.979\n",
      "47 Train accuracy: 1.0 Test accuracy: 0.9781\n",
      "48 Train accuracy: 1.0 Test accuracy: 0.9763\n",
      "49 Train accuracy: 1.0 Test accuracy: 0.9772\n",
      "50 Train accuracy: 1.0 Test accuracy: 0.9776\n",
      "51 Train accuracy: 1.0 Test accuracy: 0.9781\n",
      "52 Train accuracy: 1.0 Test accuracy: 0.9786\n",
      "53 Train accuracy: 1.0 Test accuracy: 0.9785\n",
      "54 Train accuracy: 1.0 Test accuracy: 0.9767\n",
      "55 Train accuracy: 1.0 Test accuracy: 0.9783\n",
      "56 Train accuracy: 1.0 Test accuracy: 0.9782\n",
      "57 Train accuracy: 1.0 Test accuracy: 0.9778\n",
      "58 Train accuracy: 1.0 Test accuracy: 0.9788\n",
      "59 Train accuracy: 1.0 Test accuracy: 0.9788\n",
      "60 Train accuracy: 1.0 Test accuracy: 0.9789\n",
      "61 Train accuracy: 1.0 Test accuracy: 0.9792\n",
      "62 Train accuracy: 1.0 Test accuracy: 0.9789\n",
      "63 Train accuracy: 0.98 Test accuracy: 0.9792\n",
      "64 Train accuracy: 1.0 Test accuracy: 0.9784\n",
      "65 Train accuracy: 1.0 Test accuracy: 0.9793\n",
      "66 Train accuracy: 1.0 Test accuracy: 0.9791\n",
      "67 Train accuracy: 1.0 Test accuracy: 0.979\n",
      "68 Train accuracy: 1.0 Test accuracy: 0.979\n",
      "69 Train accuracy: 1.0 Test accuracy: 0.9792\n",
      "70 Train accuracy: 1.0 Test accuracy: 0.979\n",
      "71 Train accuracy: 1.0 Test accuracy: 0.98\n",
      "72 Train accuracy: 1.0 Test accuracy: 0.979\n",
      "73 Train accuracy: 1.0 Test accuracy: 0.9789\n",
      "74 Train accuracy: 1.0 Test accuracy: 0.9792\n",
      "75 Train accuracy: 1.0 Test accuracy: 0.9802\n",
      "76 Train accuracy: 1.0 Test accuracy: 0.9801\n",
      "77 Train accuracy: 1.0 Test accuracy: 0.9793\n",
      "78 Train accuracy: 1.0 Test accuracy: 0.9791\n",
      "79 Train accuracy: 1.0 Test accuracy: 0.9795\n",
      "80 Train accuracy: 1.0 Test accuracy: 0.979\n",
      "81 Train accuracy: 1.0 Test accuracy: 0.979\n",
      "82 Train accuracy: 1.0 Test accuracy: 0.9795\n",
      "83 Train accuracy: 1.0 Test accuracy: 0.9791\n",
      "84 Train accuracy: 1.0 Test accuracy: 0.9792\n",
      "85 Train accuracy: 1.0 Test accuracy: 0.9794\n",
      "86 Train accuracy: 1.0 Test accuracy: 0.9797\n",
      "87 Train accuracy: 1.0 Test accuracy: 0.9799\n",
      "88 Train accuracy: 1.0 Test accuracy: 0.9797\n",
      "89 Train accuracy: 1.0 Test accuracy: 0.9795\n",
      "90 Train accuracy: 1.0 Test accuracy: 0.9794\n",
      "91 Train accuracy: 1.0 Test accuracy: 0.9796\n",
      "92 Train accuracy: 1.0 Test accuracy: 0.9796\n",
      "93 Train accuracy: 1.0 Test accuracy: 0.9796\n",
      "94 Train accuracy: 1.0 Test accuracy: 0.9795\n",
      "95 Train accuracy: 1.0 Test accuracy: 0.9805\n",
      "96 Train accuracy: 1.0 Test accuracy: 0.979\n",
      "97 Train accuracy: 1.0 Test accuracy: 0.9803\n",
      "98 Train accuracy: 1.0 Test accuracy: 0.9797\n",
      "99 Train accuracy: 1.0 Test accuracy: 0.98\n",
      "100 Train accuracy: 1.0 Test accuracy: 0.9803\n",
      "101 Train accuracy: 1.0 Test accuracy: 0.9796\n",
      "102 Train accuracy: 1.0 Test accuracy: 0.9796\n",
      "103 Train accuracy: 1.0 Test accuracy: 0.9797\n",
      "104 Train accuracy: 1.0 Test accuracy: 0.9798\n",
      "105 Train accuracy: 1.0 Test accuracy: 0.9799\n",
      "106 Train accuracy: 1.0 Test accuracy: 0.9798\n",
      "107 Train accuracy: 1.0 Test accuracy: 0.9795\n",
      "108 Train accuracy: 1.0 Test accuracy: 0.9798\n",
      "109 Train accuracy: 1.0 Test accuracy: 0.9791\n",
      "110 Train accuracy: 1.0 Test accuracy: 0.9796\n",
      "111 Train accuracy: 1.0 Test accuracy: 0.9802\n",
      "112 Train accuracy: 1.0 Test accuracy: 0.98\n",
      "113 Train accuracy: 1.0 Test accuracy: 0.9803\n",
      "114 Train accuracy: 1.0 Test accuracy: 0.9794\n",
      "115 Train accuracy: 1.0 Test accuracy: 0.9797\n",
      "116 Train accuracy: 1.0 Test accuracy: 0.9802\n",
      "117 Train accuracy: 1.0 Test accuracy: 0.98\n",
      "118 Train accuracy: 1.0 Test accuracy: 0.98\n",
      "119 Train accuracy: 1.0 Test accuracy: 0.9802\n",
      "120 Train accuracy: 1.0 Test accuracy: 0.9798\n",
      "121 Train accuracy: 1.0 Test accuracy: 0.9803\n",
      "122 Train accuracy: 1.0 Test accuracy: 0.9803\n",
      "123 Train accuracy: 1.0 Test accuracy: 0.9802\n",
      "124 Train accuracy: 1.0 Test accuracy: 0.9803\n",
      "125 Train accuracy: 1.0 Test accuracy: 0.9803\n",
      "126 Train accuracy: 1.0 Test accuracy: 0.9801\n",
      "127 Train accuracy: 1.0 Test accuracy: 0.9797\n",
      "128 Train accuracy: 1.0 Test accuracy: 0.9804\n",
      "129 Train accuracy: 1.0 Test accuracy: 0.9803\n",
      "130 Train accuracy: 1.0 Test accuracy: 0.98\n",
      "131 Train accuracy: 1.0 Test accuracy: 0.9797\n",
      "132 Train accuracy: 1.0 Test accuracy: 0.9802\n",
      "133 Train accuracy: 1.0 Test accuracy: 0.9804\n",
      "134 Train accuracy: 1.0 Test accuracy: 0.98\n",
      "135 Train accuracy: 1.0 Test accuracy: 0.9803\n",
      "136 Train accuracy: 1.0 Test accuracy: 0.9803\n",
      "137 Train accuracy: 1.0 Test accuracy: 0.9803\n",
      "138 Train accuracy: 1.0 Test accuracy: 0.9803\n",
      "139 Train accuracy: 1.0 Test accuracy: 0.9798\n",
      "140 Train accuracy: 1.0 Test accuracy: 0.9805\n",
      "141 Train accuracy: 1.0 Test accuracy: 0.9804\n",
      "142 Train accuracy: 1.0 Test accuracy: 0.9804\n",
      "143 Train accuracy: 1.0 Test accuracy: 0.9803\n",
      "144 Train accuracy: 1.0 Test accuracy: 0.9802\n",
      "145 Train accuracy: 1.0 Test accuracy: 0.9805\n",
      "146 Train accuracy: 1.0 Test accuracy: 0.9803\n",
      "147 Train accuracy: 1.0 Test accuracy: 0.9809\n",
      "148 Train accuracy: 1.0 Test accuracy: 0.9804\n",
      "149 Train accuracy: 1.0 Test accuracy: 0.9804\n",
      "150 Train accuracy: 1.0 Test accuracy: 0.9805\n",
      "151 Train accuracy: 1.0 Test accuracy: 0.9802\n",
      "152 Train accuracy: 1.0 Test accuracy: 0.9801\n",
      "153 Train accuracy: 1.0 Test accuracy: 0.9804\n",
      "154 Train accuracy: 1.0 Test accuracy: 0.9801\n",
      "155 Train accuracy: 1.0 Test accuracy: 0.9804\n",
      "156 Train accuracy: 1.0 Test accuracy: 0.9805\n",
      "157 Train accuracy: 1.0 Test accuracy: 0.9799\n",
      "158 Train accuracy: 1.0 Test accuracy: 0.9804\n",
      "159 Train accuracy: 1.0 Test accuracy: 0.9807\n",
      "160 Train accuracy: 1.0 Test accuracy: 0.9802\n",
      "161 Train accuracy: 1.0 Test accuracy: 0.9804\n",
      "162 Train accuracy: 1.0 Test accuracy: 0.9803\n",
      "163 Train accuracy: 1.0 Test accuracy: 0.9803\n",
      "164 Train accuracy: 1.0 Test accuracy: 0.9802\n",
      "165 Train accuracy: 1.0 Test accuracy: 0.9806\n",
      "166 Train accuracy: 1.0 Test accuracy: 0.9806\n",
      "167 Train accuracy: 1.0 Test accuracy: 0.9806\n",
      "168 Train accuracy: 1.0 Test accuracy: 0.9805\n",
      "169 Train accuracy: 1.0 Test accuracy: 0.9804\n",
      "170 Train accuracy: 1.0 Test accuracy: 0.9805\n",
      "171 Train accuracy: 1.0 Test accuracy: 0.9802\n",
      "172 Train accuracy: 1.0 Test accuracy: 0.9803\n",
      "173 Train accuracy: 1.0 Test accuracy: 0.9805\n",
      "174 Train accuracy: 1.0 Test accuracy: 0.9804\n",
      "175 Train accuracy: 1.0 Test accuracy: 0.9804\n",
      "176 Train accuracy: 1.0 Test accuracy: 0.9808\n",
      "177 Train accuracy: 1.0 Test accuracy: 0.9807\n",
      "178 Train accuracy: 1.0 Test accuracy: 0.9805\n",
      "179 Train accuracy: 1.0 Test accuracy: 0.9803\n",
      "180 Train accuracy: 1.0 Test accuracy: 0.9805\n"
     ]
    },
    {
     "name": "stdout",
     "output_type": "stream",
     "text": [
      "181 Train accuracy: 1.0 Test accuracy: 0.9806\n",
      "182 Train accuracy: 1.0 Test accuracy: 0.9806\n",
      "183 Train accuracy: 1.0 Test accuracy: 0.9807\n",
      "184 Train accuracy: 1.0 Test accuracy: 0.9806\n",
      "185 Train accuracy: 1.0 Test accuracy: 0.9804\n",
      "186 Train accuracy: 1.0 Test accuracy: 0.9806\n",
      "187 Train accuracy: 1.0 Test accuracy: 0.9804\n",
      "188 Train accuracy: 1.0 Test accuracy: 0.9802\n",
      "189 Train accuracy: 1.0 Test accuracy: 0.9804\n",
      "190 Train accuracy: 1.0 Test accuracy: 0.9805\n",
      "191 Train accuracy: 1.0 Test accuracy: 0.9804\n",
      "192 Train accuracy: 1.0 Test accuracy: 0.9804\n",
      "193 Train accuracy: 1.0 Test accuracy: 0.9802\n",
      "194 Train accuracy: 1.0 Test accuracy: 0.9805\n",
      "195 Train accuracy: 1.0 Test accuracy: 0.9803\n",
      "196 Train accuracy: 1.0 Test accuracy: 0.9804\n",
      "197 Train accuracy: 1.0 Test accuracy: 0.9806\n",
      "198 Train accuracy: 1.0 Test accuracy: 0.9805\n",
      "199 Train accuracy: 1.0 Test accuracy: 0.9805\n",
      "200 Train accuracy: 1.0 Test accuracy: 0.9806\n",
      "201 Train accuracy: 1.0 Test accuracy: 0.9805\n",
      "202 Train accuracy: 1.0 Test accuracy: 0.9803\n",
      "203 Train accuracy: 1.0 Test accuracy: 0.9804\n",
      "204 Train accuracy: 1.0 Test accuracy: 0.9804\n",
      "205 Train accuracy: 1.0 Test accuracy: 0.9804\n",
      "206 Train accuracy: 1.0 Test accuracy: 0.9808\n",
      "207 Train accuracy: 1.0 Test accuracy: 0.9804\n",
      "208 Train accuracy: 1.0 Test accuracy: 0.9805\n",
      "209 Train accuracy: 1.0 Test accuracy: 0.9805\n",
      "210 Train accuracy: 1.0 Test accuracy: 0.9806\n",
      "211 Train accuracy: 1.0 Test accuracy: 0.9806\n",
      "212 Train accuracy: 1.0 Test accuracy: 0.9804\n",
      "213 Train accuracy: 1.0 Test accuracy: 0.9804\n",
      "214 Train accuracy: 1.0 Test accuracy: 0.9805\n",
      "215 Train accuracy: 1.0 Test accuracy: 0.9805\n",
      "216 Train accuracy: 1.0 Test accuracy: 0.9805\n",
      "217 Train accuracy: 1.0 Test accuracy: 0.9806\n",
      "218 Train accuracy: 1.0 Test accuracy: 0.9808\n",
      "219 Train accuracy: 1.0 Test accuracy: 0.9807\n",
      "220 Train accuracy: 1.0 Test accuracy: 0.9806\n",
      "221 Train accuracy: 1.0 Test accuracy: 0.9807\n",
      "222 Train accuracy: 1.0 Test accuracy: 0.9805\n",
      "223 Train accuracy: 1.0 Test accuracy: 0.9807\n",
      "224 Train accuracy: 1.0 Test accuracy: 0.9806\n",
      "225 Train accuracy: 1.0 Test accuracy: 0.9803\n",
      "226 Train accuracy: 1.0 Test accuracy: 0.9806\n",
      "227 Train accuracy: 1.0 Test accuracy: 0.9805\n",
      "228 Train accuracy: 1.0 Test accuracy: 0.9803\n",
      "229 Train accuracy: 1.0 Test accuracy: 0.9804\n",
      "230 Train accuracy: 1.0 Test accuracy: 0.9806\n",
      "231 Train accuracy: 1.0 Test accuracy: 0.9805\n"
     ]
    }
   ],
   "source": [
    "with tf.Session() as sess:\n",
    "    init.run()\n",
    "    for epoch in range(n_epochs):\n",
    "        for iteration in range(mnist.train.num_examples // batch_size):\n",
    "            X_batch, y_batch = mnist.train.next_batch(batch_size)\n",
    "            sess.run(training_op, feed_dict={X: X_batch, y:y_batch})\n",
    "        \n",
    "        acc_train = accuracy.eval(feed_dict={X: X_batch, y:y_batch})\n",
    "        acc_test = accuracy.eval(feed_dict={X: mnist.test.images, y: mnist.test.labels})\n",
    "        print(epoch, \"Train accuracy:\", acc_train, \"Test accuracy:\", acc_test)\n",
    "    \n",
    "    save_path = saver.save(sess, \"./my_model_final.ckpt\")"
   ]
  },
  {
   "cell_type": "code",
   "execution_count": null,
   "metadata": {
    "collapsed": true
   },
   "outputs": [],
   "source": []
  }
 ],
 "metadata": {
  "anaconda-cloud": {},
  "kernelspec": {
   "display_name": "Python 3",
   "language": "python",
   "name": "python3"
  },
  "language_info": {
   "codemirror_mode": {
    "name": "ipython",
    "version": 3
   },
   "file_extension": ".py",
   "mimetype": "text/x-python",
   "name": "python",
   "nbconvert_exporter": "python",
   "pygments_lexer": "ipython3",
   "version": "3.5.3"
  }
 },
 "nbformat": 4,
 "nbformat_minor": 1
}
