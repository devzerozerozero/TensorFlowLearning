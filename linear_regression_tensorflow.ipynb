{
 "cells": [
  {
   "cell_type": "code",
   "execution_count": 2,
   "metadata": {
    "collapsed": true
   },
   "outputs": [],
   "source": [
    "import tensorflow as tf\n",
    "import numpy as np"
   ]
  },
  {
   "cell_type": "code",
   "execution_count": 3,
   "metadata": {
    "collapsed": true
   },
   "outputs": [],
   "source": [
    "from sklearn.datasets import fetch_california_housing"
   ]
  },
  {
   "cell_type": "code",
   "execution_count": 4,
   "metadata": {
    "collapsed": true
   },
   "outputs": [],
   "source": [
    "housing = fetch_california_housing()"
   ]
  },
  {
   "cell_type": "code",
   "execution_count": 5,
   "metadata": {
    "collapsed": true
   },
   "outputs": [],
   "source": [
    "m, n = housing.data.shape"
   ]
  },
  {
   "cell_type": "code",
   "execution_count": 6,
   "metadata": {
    "collapsed": true
   },
   "outputs": [],
   "source": [
    "from sklearn.preprocessing import StandardScaler"
   ]
  },
  {
   "cell_type": "code",
   "execution_count": 7,
   "metadata": {
    "collapsed": true
   },
   "outputs": [],
   "source": [
    "housing_data_plus_bias = np.c_[np.ones((m,1)), housing.data]\n",
    "scaler = StandardScaler()\n"
   ]
  },
  {
   "cell_type": "code",
   "execution_count": 8,
   "metadata": {
    "collapsed": true
   },
   "outputs": [],
   "source": [
    "scalered_housing_data_plus_bias = scaler.fit_transform(housing_data_plus_bias)"
   ]
  },
  {
   "cell_type": "code",
   "execution_count": 9,
   "metadata": {
    "collapsed": true
   },
   "outputs": [],
   "source": [
    "n_epochs = 10000\n",
    "learning_rate = 0.01"
   ]
  },
  {
   "cell_type": "code",
   "execution_count": 10,
   "metadata": {
    "collapsed": true
   },
   "outputs": [],
   "source": [
    "X = tf.constant(scalered_housing_data_plus_bias, dtype=tf.float32, name='X')"
   ]
  },
  {
   "cell_type": "code",
   "execution_count": 11,
   "metadata": {
    "collapsed": true
   },
   "outputs": [],
   "source": [
    "y = tf.constant(housing.target.reshape(-1,1), dtype=tf.float32, name='y')"
   ]
  },
  {
   "cell_type": "code",
   "execution_count": 12,
   "metadata": {
    "collapsed": true
   },
   "outputs": [],
   "source": [
    "theta = tf.Variable(tf.random_uniform([n+1, 1], -1.0, 1.0),name='theta')"
   ]
  },
  {
   "cell_type": "code",
   "execution_count": 13,
   "metadata": {
    "collapsed": true
   },
   "outputs": [],
   "source": [
    "y_pred = tf.matmul(X, theta, name=\"predication\")"
   ]
  },
  {
   "cell_type": "code",
   "execution_count": 14,
   "metadata": {
    "collapsed": true
   },
   "outputs": [],
   "source": [
    "error = y_pred -y"
   ]
  },
  {
   "cell_type": "code",
   "execution_count": 15,
   "metadata": {},
   "outputs": [],
   "source": [
    "mse = tf.reduce_mean(tf.square(error), name=\"mse\")"
   ]
  },
  {
   "cell_type": "code",
   "execution_count": 16,
   "metadata": {},
   "outputs": [
    {
     "data": {
      "text/plain": [
       "tensorflow.python.framework.ops.Tensor"
      ]
     },
     "execution_count": 16,
     "metadata": {},
     "output_type": "execute_result"
    }
   ],
   "source": [
    "type(mse)"
   ]
  },
  {
   "cell_type": "code",
   "execution_count": 17,
   "metadata": {},
   "outputs": [
    {
     "data": {
      "text/plain": [
       "<tf.Tensor 'gradients/predication_grad/MatMul_1:0' shape=(9, 1) dtype=float32>"
      ]
     },
     "execution_count": 17,
     "metadata": {},
     "output_type": "execute_result"
    }
   ],
   "source": [
    "#gradients = 2/m * tf.matmul(tf.transpose(X), error)\n",
    "gradients = tf.gradients(mse, [theta])[0]\n",
    "gradients"
   ]
  },
  {
   "cell_type": "code",
   "execution_count": 18,
   "metadata": {
    "collapsed": true
   },
   "outputs": [],
   "source": [
    "training_op = tf.assign(theta, theta - learning_rate * gradients)"
   ]
  },
  {
   "cell_type": "code",
   "execution_count": 19,
   "metadata": {
    "collapsed": true
   },
   "outputs": [],
   "source": [
    "init = tf.global_variables_initializer()"
   ]
  },
  {
   "cell_type": "code",
   "execution_count": 20,
   "metadata": {},
   "outputs": [
    {
     "name": "stdout",
     "output_type": "stream",
     "text": [
      "Epoch 0 MSE = 8.80317\n",
      "Epoch 100 MSE = 4.88242\n",
      "Epoch 200 MSE = 4.85061\n",
      "Epoch 300 MSE = 4.84046\n",
      "Epoch 400 MSE = 4.83278\n",
      "Epoch 500 MSE = 4.82679\n",
      "Epoch 600 MSE = 4.82211\n",
      "Epoch 700 MSE = 4.81841\n",
      "Epoch 800 MSE = 4.81548\n",
      "Epoch 900 MSE = 4.81316\n",
      "Epoch 1000 MSE = 4.8113\n",
      "Epoch 1100 MSE = 4.8098\n",
      "Epoch 1200 MSE = 4.8086\n",
      "Epoch 1300 MSE = 4.80763\n",
      "Epoch 1400 MSE = 4.80685\n",
      "Epoch 1500 MSE = 4.80621\n",
      "Epoch 1600 MSE = 4.80569\n",
      "Epoch 1700 MSE = 4.80526\n",
      "Epoch 1800 MSE = 4.80491\n",
      "Epoch 1900 MSE = 4.80462\n",
      "Epoch 2000 MSE = 4.80439\n",
      "Epoch 2100 MSE = 4.80419\n",
      "Epoch 2200 MSE = 4.80403\n",
      "Epoch 2300 MSE = 4.8039\n",
      "Epoch 2400 MSE = 4.80379\n",
      "Epoch 2500 MSE = 4.8037\n",
      "Epoch 2600 MSE = 4.80362\n",
      "Epoch 2700 MSE = 4.80356\n",
      "Epoch 2800 MSE = 4.80351\n",
      "Epoch 2900 MSE = 4.80347\n",
      "Epoch 3000 MSE = 4.80343\n",
      "Epoch 3100 MSE = 4.80341\n",
      "Epoch 3200 MSE = 4.80338\n",
      "Epoch 3300 MSE = 4.80336\n",
      "Epoch 3400 MSE = 4.80334\n",
      "Epoch 3500 MSE = 4.80332\n",
      "Epoch 3600 MSE = 4.80332\n",
      "Epoch 3700 MSE = 4.8033\n",
      "Epoch 3800 MSE = 4.80329\n",
      "Epoch 3900 MSE = 4.80329\n",
      "Epoch 4000 MSE = 4.80328\n",
      "Epoch 4100 MSE = 4.80328\n",
      "Epoch 4200 MSE = 4.80327\n",
      "Epoch 4300 MSE = 4.80326\n",
      "Epoch 4400 MSE = 4.80327\n",
      "Epoch 4500 MSE = 4.80326\n",
      "Epoch 4600 MSE = 4.80326\n",
      "Epoch 4700 MSE = 4.80326\n",
      "Epoch 4800 MSE = 4.80326\n",
      "Epoch 4900 MSE = 4.80326\n",
      "Epoch 5000 MSE = 4.80326\n",
      "Epoch 5100 MSE = 4.80326\n",
      "Epoch 5200 MSE = 4.80326\n",
      "Epoch 5300 MSE = 4.80326\n",
      "Epoch 5400 MSE = 4.80326\n",
      "Epoch 5500 MSE = 4.80325\n",
      "Epoch 5600 MSE = 4.80326\n",
      "Epoch 5700 MSE = 4.80326\n",
      "Epoch 5800 MSE = 4.80325\n",
      "Epoch 5900 MSE = 4.80325\n",
      "Epoch 6000 MSE = 4.80325\n",
      "Epoch 6100 MSE = 4.80325\n",
      "Epoch 6200 MSE = 4.80326\n",
      "Epoch 6300 MSE = 4.80325\n",
      "Epoch 6400 MSE = 4.80325\n",
      "Epoch 6500 MSE = 4.80326\n",
      "Epoch 6600 MSE = 4.80326\n",
      "Epoch 6700 MSE = 4.80326\n",
      "Epoch 6800 MSE = 4.80326\n",
      "Epoch 6900 MSE = 4.80325\n",
      "Epoch 7000 MSE = 4.80325\n",
      "Epoch 7100 MSE = 4.80325\n",
      "Epoch 7200 MSE = 4.80325\n",
      "Epoch 7300 MSE = 4.80325\n",
      "Epoch 7400 MSE = 4.80326\n",
      "Epoch 7500 MSE = 4.80326\n",
      "Epoch 7600 MSE = 4.80326\n",
      "Epoch 7700 MSE = 4.80326\n",
      "Epoch 7800 MSE = 4.80326\n",
      "Epoch 7900 MSE = 4.80326\n",
      "Epoch 8000 MSE = 4.80326\n",
      "Epoch 8100 MSE = 4.80326\n",
      "Epoch 8200 MSE = 4.80325\n",
      "Epoch 8300 MSE = 4.80325\n",
      "Epoch 8400 MSE = 4.80326\n",
      "Epoch 8500 MSE = 4.80325\n",
      "Epoch 8600 MSE = 4.80325\n",
      "Epoch 8700 MSE = 4.80325\n",
      "Epoch 8800 MSE = 4.80325\n",
      "Epoch 8900 MSE = 4.80325\n",
      "Epoch 9000 MSE = 4.80325\n",
      "Epoch 9100 MSE = 4.80325\n",
      "Epoch 9200 MSE = 4.80325\n",
      "Epoch 9300 MSE = 4.80325\n",
      "Epoch 9400 MSE = 4.80325\n",
      "Epoch 9500 MSE = 4.80325\n",
      "Epoch 9600 MSE = 4.80325\n",
      "Epoch 9700 MSE = 4.80325\n",
      "Epoch 9800 MSE = 4.80325\n",
      "Epoch 9900 MSE = 4.80325\n"
     ]
    }
   ],
   "source": [
    "with tf.Session() as sess:\n",
    "    sess.run(init)\n",
    "    for epoch in range(n_epochs):\n",
    "        if epoch % 100 == 0:\n",
    "            print(\"Epoch\", epoch, \"MSE =\", mse.eval())\n",
    "        sess.run(training_op)\n",
    "    best_theta = theta.eval()"
   ]
  },
  {
   "cell_type": "code",
   "execution_count": 21,
   "metadata": {},
   "outputs": [
    {
     "data": {
      "text/plain": [
       "array([[ 0.14094663],\n",
       "       [ 0.8296473 ],\n",
       "       [ 0.1187569 ],\n",
       "       [-0.2655791 ],\n",
       "       [ 0.30573928],\n",
       "       [-0.0045013 ],\n",
       "       [-0.03932736],\n",
       "       [-0.89982033],\n",
       "       [-0.87047994]], dtype=float32)"
      ]
     },
     "execution_count": 21,
     "metadata": {},
     "output_type": "execute_result"
    }
   ],
   "source": [
    "best_theta"
   ]
  },
  {
   "cell_type": "code",
   "execution_count": null,
   "metadata": {
    "collapsed": true
   },
   "outputs": [],
   "source": []
  },
  {
   "cell_type": "code",
   "execution_count": null,
   "metadata": {
    "collapsed": true
   },
   "outputs": [],
   "source": []
  }
 ],
 "metadata": {
  "kernelspec": {
   "display_name": "Python 3",
   "language": "python",
   "name": "python3"
  },
  "language_info": {
   "codemirror_mode": {
    "name": "ipython",
    "version": 3
   },
   "file_extension": ".py",
   "mimetype": "text/x-python",
   "name": "python",
   "nbconvert_exporter": "python",
   "pygments_lexer": "ipython3",
   "version": "3.5.3"
  }
 },
 "nbformat": 4,
 "nbformat_minor": 2
}
